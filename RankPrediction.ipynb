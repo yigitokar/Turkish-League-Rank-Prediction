{
 "cells": [
  {
   "cell_type": "code",
   "execution_count": 728,
   "metadata": {},
   "outputs": [],
   "source": [
    "from sklearn.linear_model import LinearRegression\n",
    "import pandas as pd\n",
    "from scipy.stats import kendalltau"
   ]
  },
  {
   "cell_type": "code",
   "execution_count": 729,
   "metadata": {},
   "outputs": [],
   "source": [
    "import time\n",
    "\n",
    "import numpy as np\n",
    "import matplotlib as plt\n",
    "\n",
    "from sklearn.model_selection import cross_val_score\n",
    "from sklearn.externals import joblib\n",
    "from sklearn.model_selection import train_test_split\n",
    "from sklearn.linear_model import LinearRegression\n",
    "from sklearn.metrics import r2_score"
   ]
  },
  {
   "cell_type": "markdown",
   "metadata": {},
   "source": [
    "Reading the excel data into different data frames;"
   ]
  },
  {
   "cell_type": "code",
   "execution_count": 730,
   "metadata": {},
   "outputs": [],
   "source": [
    "player_df = pd.read_excel('train_data.xlsx', sheet_name='Player')\n",
    "point_df = pd.read_excel('train_data.xlsx', 'Points')"
   ]
  },
  {
   "cell_type": "markdown",
   "metadata": {},
   "source": [
    "## Data Analysis "
   ]
  },
  {
   "cell_type": "markdown",
   "metadata": {},
   "source": [
    "Checking for any type of abnormalities by utilizing pandas' \"groupby\";"
   ]
  },
  {
   "cell_type": "code",
   "execution_count": 731,
   "metadata": {},
   "outputs": [
    {
     "data": {
      "text/html": [
       "<div>\n",
       "<style scoped>\n",
       "    .dataframe tbody tr th:only-of-type {\n",
       "        vertical-align: middle;\n",
       "    }\n",
       "\n",
       "    .dataframe tbody tr th {\n",
       "        vertical-align: top;\n",
       "    }\n",
       "\n",
       "    .dataframe thead th {\n",
       "        text-align: right;\n",
       "    }\n",
       "</style>\n",
       "<table border=\"1\" class=\"dataframe\">\n",
       "  <thead>\n",
       "    <tr style=\"text-align: right;\">\n",
       "      <th></th>\n",
       "      <th>Club</th>\n",
       "      <th>Points</th>\n",
       "    </tr>\n",
       "    <tr>\n",
       "      <th>Season</th>\n",
       "      <th></th>\n",
       "      <th></th>\n",
       "    </tr>\n",
       "  </thead>\n",
       "  <tbody>\n",
       "    <tr>\n",
       "      <th>2007</th>\n",
       "      <td>18</td>\n",
       "      <td>18</td>\n",
       "    </tr>\n",
       "    <tr>\n",
       "      <th>2008</th>\n",
       "      <td>18</td>\n",
       "      <td>18</td>\n",
       "    </tr>\n",
       "    <tr>\n",
       "      <th>2009</th>\n",
       "      <td>17</td>\n",
       "      <td>17</td>\n",
       "    </tr>\n",
       "    <tr>\n",
       "      <th>2010</th>\n",
       "      <td>18</td>\n",
       "      <td>18</td>\n",
       "    </tr>\n",
       "    <tr>\n",
       "      <th>2011</th>\n",
       "      <td>18</td>\n",
       "      <td>18</td>\n",
       "    </tr>\n",
       "    <tr>\n",
       "      <th>2012</th>\n",
       "      <td>18</td>\n",
       "      <td>18</td>\n",
       "    </tr>\n",
       "    <tr>\n",
       "      <th>2013</th>\n",
       "      <td>18</td>\n",
       "      <td>18</td>\n",
       "    </tr>\n",
       "    <tr>\n",
       "      <th>2014</th>\n",
       "      <td>18</td>\n",
       "      <td>18</td>\n",
       "    </tr>\n",
       "    <tr>\n",
       "      <th>2015</th>\n",
       "      <td>18</td>\n",
       "      <td>18</td>\n",
       "    </tr>\n",
       "  </tbody>\n",
       "</table>\n",
       "</div>"
      ],
      "text/plain": [
       "        Club  Points\n",
       "Season              \n",
       "2007      18      18\n",
       "2008      18      18\n",
       "2009      17      17\n",
       "2010      18      18\n",
       "2011      18      18\n",
       "2012      18      18\n",
       "2013      18      18\n",
       "2014      18      18\n",
       "2015      18      18"
      ]
     },
     "execution_count": 731,
     "metadata": {},
     "output_type": "execute_result"
    }
   ],
   "source": [
    "point_df.groupby(['Season']).count()\n",
    "\n"
   ]
  },
  {
   "cell_type": "markdown",
   "metadata": {},
   "source": [
    "Removing data points for Ankaraspor in the year 2009 since they do not have any points that year"
   ]
  },
  {
   "cell_type": "code",
   "execution_count": 732,
   "metadata": {},
   "outputs": [],
   "source": [
    "boolean = (player_df['Season']==2009) & (player_df['Club']=='Ankaraspor')\n",
    "boolean = [not i for i in boolean]\n",
    "player_df = player_df[boolean]"
   ]
  },
  {
   "cell_type": "markdown",
   "metadata": {},
   "source": [
    "To better understand the data we use .describe(). Results are as follows:"
   ]
  },
  {
   "cell_type": "code",
   "execution_count": 733,
   "metadata": {},
   "outputs": [
    {
     "data": {
      "text/html": [
       "<div>\n",
       "<style scoped>\n",
       "    .dataframe tbody tr th:only-of-type {\n",
       "        vertical-align: middle;\n",
       "    }\n",
       "\n",
       "    .dataframe tbody tr th {\n",
       "        vertical-align: top;\n",
       "    }\n",
       "\n",
       "    .dataframe thead th {\n",
       "        text-align: right;\n",
       "    }\n",
       "</style>\n",
       "<table border=\"1\" class=\"dataframe\">\n",
       "  <thead>\n",
       "    <tr style=\"text-align: right;\">\n",
       "      <th></th>\n",
       "      <th>Age</th>\n",
       "      <th>Foreign</th>\n",
       "      <th>Multinational</th>\n",
       "      <th>Market Value</th>\n",
       "    </tr>\n",
       "  </thead>\n",
       "  <tbody>\n",
       "    <tr>\n",
       "      <th>count</th>\n",
       "      <td>4761.000000</td>\n",
       "      <td>4761.000000</td>\n",
       "      <td>4761.000000</td>\n",
       "      <td>4.761000e+03</td>\n",
       "    </tr>\n",
       "    <tr>\n",
       "      <th>mean</th>\n",
       "      <td>25.521109</td>\n",
       "      <td>0.501575</td>\n",
       "      <td>0.278723</td>\n",
       "      <td>1.722757e+06</td>\n",
       "    </tr>\n",
       "    <tr>\n",
       "      <th>std</th>\n",
       "      <td>4.095758</td>\n",
       "      <td>0.500050</td>\n",
       "      <td>0.448418</td>\n",
       "      <td>2.234580e+06</td>\n",
       "    </tr>\n",
       "    <tr>\n",
       "      <th>min</th>\n",
       "      <td>14.000000</td>\n",
       "      <td>0.000000</td>\n",
       "      <td>0.000000</td>\n",
       "      <td>2.500000e+04</td>\n",
       "    </tr>\n",
       "    <tr>\n",
       "      <th>25%</th>\n",
       "      <td>23.000000</td>\n",
       "      <td>0.000000</td>\n",
       "      <td>0.000000</td>\n",
       "      <td>4.500000e+05</td>\n",
       "    </tr>\n",
       "    <tr>\n",
       "      <th>50%</th>\n",
       "      <td>26.000000</td>\n",
       "      <td>1.000000</td>\n",
       "      <td>0.000000</td>\n",
       "      <td>1.000000e+06</td>\n",
       "    </tr>\n",
       "    <tr>\n",
       "      <th>75%</th>\n",
       "      <td>28.000000</td>\n",
       "      <td>1.000000</td>\n",
       "      <td>1.000000</td>\n",
       "      <td>2.000000e+06</td>\n",
       "    </tr>\n",
       "    <tr>\n",
       "      <th>max</th>\n",
       "      <td>38.000000</td>\n",
       "      <td>1.000000</td>\n",
       "      <td>1.000000</td>\n",
       "      <td>3.200000e+07</td>\n",
       "    </tr>\n",
       "  </tbody>\n",
       "</table>\n",
       "</div>"
      ],
      "text/plain": [
       "               Age      Foreign  Multinational  Market Value\n",
       "count  4761.000000  4761.000000    4761.000000  4.761000e+03\n",
       "mean     25.521109     0.501575       0.278723  1.722757e+06\n",
       "std       4.095758     0.500050       0.448418  2.234580e+06\n",
       "min      14.000000     0.000000       0.000000  2.500000e+04\n",
       "25%      23.000000     0.000000       0.000000  4.500000e+05\n",
       "50%      26.000000     1.000000       0.000000  1.000000e+06\n",
       "75%      28.000000     1.000000       1.000000  2.000000e+06\n",
       "max      38.000000     1.000000       1.000000  3.200000e+07"
      ]
     },
     "execution_count": 733,
     "metadata": {},
     "output_type": "execute_result"
    }
   ],
   "source": [
    "player_df[['Age','Foreign','Multinational','Market Value']].describe()"
   ]
  },
  {
   "cell_type": "markdown",
   "metadata": {},
   "source": [
    "   As it can be seen above the average age of the players among all of the seasons provided is 25.521 with a standard deviation of 4.09 . In addition, half of the players are foreign and approximately half of these players are multinational. Average market value of a player who played in Turkish Super League between 2007-2015 is 1.72 M Euro. To better understand the data we investigate the distrubitions and time trends in the variables. Below in the first figure you can see the histogram of the Market Value of the players. In the second one you can see the histogram of the age of the players. In the third and the fourth figures you can find the time trends in these variables. As you can see there is an upward trand in both Market Value and Age."
   ]
  },
  {
   "cell_type": "code",
   "execution_count": 734,
   "metadata": {},
   "outputs": [
    {
     "data": {
      "image/png": "[encoded data removed]",
      "text/plain": [
       "<matplotlib.figure.Figure at 0x1afecfd74e0>"
      ]
     },
     "metadata": {},
     "output_type": "display_data"
    }
   ],
   "source": [
    "import matplotlib.pyplot as plt\n",
    "%matplotlib inline\n",
    "x = player_df['Market Value']\n",
    "plt.hist(x, normed=True, bins=30)\n",
    "plt.ylabel('Frequency');\n",
    "plt.xlabel('Market Value');"
   ]
  },
  {
   "cell_type": "code",
   "execution_count": 735,
   "metadata": {},
   "outputs": [
    {
     "data": {
      "image/png": "[encoded data removed]",
      "text/plain": [
       "<matplotlib.figure.Figure at 0x1afed00e668>"
      ]
     },
     "metadata": {},
     "output_type": "display_data"
    }
   ],
   "source": [
    "%matplotlib inline\n",
    "x = player_df['Age']\n",
    "plt.hist(x, normed=True, bins=25)\n",
    "plt.ylabel('Frequency');\n",
    "plt.xlabel('Age');"
   ]
  },
  {
   "cell_type": "markdown",
   "metadata": {},
   "source": [
    "In order to give some aggregation to the data and see the time trends we group the data and analyze the resulting dataframes."
   ]
  },
  {
   "cell_type": "code",
   "execution_count": 736,
   "metadata": {},
   "outputs": [
    {
     "data": {
      "image/png": "[encoded data removed]",
      "text/plain": [
       "<matplotlib.figure.Figure at 0x1afebecf630>"
      ]
     },
     "metadata": {},
     "output_type": "display_data"
    }
   ],
   "source": [
    "grouped_df = player_df.groupby(['Season', 'Club'])\n",
    "dum = grouped_df.mean()['Age']\n",
    "dum = dum.groupby('Season').mean()\n",
    "plt.plot(dum)\n",
    "plt.ylabel('Average Age in Turkish Super League')\n",
    "plt.xlabel('Years')\n",
    "plt.show()"
   ]
  },
  {
   "cell_type": "code",
   "execution_count": 737,
   "metadata": {},
   "outputs": [
    {
     "data": {
      "image/png": "[encoded data removed]",
      "text/plain": [
       "<matplotlib.figure.Figure at 0x1afed04b7f0>"
      ]
     },
     "metadata": {},
     "output_type": "display_data"
    }
   ],
   "source": [
    "dum = grouped_df.mean()['Market Value']\n",
    "dum = dum.groupby('Season').mean()\n",
    "plt.plot(dum)\n",
    "plt.ylabel('Average Market Value in Turkish Super League')\n",
    "plt.xlabel('Years')\n",
    "plt.show()"
   ]
  },
  {
   "cell_type": "markdown",
   "metadata": {},
   "source": [
    "# Feature Creation"
   ]
  },
  {
   "cell_type": "markdown",
   "metadata": {},
   "source": [
    "We think that age is a measure of strength and energy of a player, therefore a squad with more young and energetic players can endure the difficulty of league throughout a season. General age average is a measure of youth of a squad, so we thought that age average of each team throughout seasons would be a good feature to predict which team can handle the hardness of a tough season.\n",
    "We also think that an experienced leader would have an influence over the team that intends to achieve higher goals throughout a season. Moreover, a young player who is able to play a team indicates that the squad is lack of adequate players, meaning team is financially not so powerful enough to design its squad with experienced and relatively young and energetic players. Therefore we though that these three age related features would fit well to predict such an estimation."
   ]
  },
  {
   "cell_type": "code",
   "execution_count": 738,
   "metadata": {},
   "outputs": [],
   "source": [
    "x1 = grouped_df.mean()['Age']   # age mean\n",
    "x1 = x1.rename('Average Age')\n",
    "x2 =  grouped_df.max()['Age']   # oldest player \n",
    "x2 = x2.rename('Max age')\n",
    "x3 =  grouped_df.min()['Age']   # youngest player\n",
    "x3 = x3.rename('Min age')"
   ]
  },
  {
   "cell_type": "markdown",
   "metadata": {},
   "source": [
    "We observed that a team with high quality players would be more successful. Market value can be seen as a metric of quality, so that a player in form will have higher market value. A generalized team average of market values of players shows a significant effect on predictions on a season. Therefore it is a measure of team's squad quality, and we think that it would be a good feature to take into account. However, some teams have more players than others, in purpose of widening the squad, resulting the average quality of squad. So, it may not be as good as it is thought it is."
   ]
  },
  {
   "cell_type": "code",
   "execution_count": 739,
   "metadata": {},
   "outputs": [],
   "source": [
    "x4 = grouped_df.mean()['Market Value']  # mean of team MV\n",
    "x4 = x4.rename('Average Market Value')\n"
   ]
  },
  {
   "cell_type": "markdown",
   "metadata": {},
   "source": [
    "We examined that a star player of a team can carry the team higher than expected, so it is possible to build a team plan over a star player. Therefore we suspected that star players of each team can have influence over the season. A accountable measure of being a star player is market value. However it may be incorrect for teams that are built over plenty of average players."
   ]
  },
  {
   "cell_type": "code",
   "execution_count": 740,
   "metadata": {},
   "outputs": [],
   "source": [
    "x5 = grouped_df.max()['Market Value']   # star player \n",
    "x5 = x5.rename('Max Market Value')"
   ]
  },
  {
   "cell_type": "markdown",
   "metadata": {},
   "source": [
    "We suspect that the player that has the lowest market value can be an indicator. It is a measure of how expensive a team's squad is, corresponding to the market value threshold of a squad. Lowest value is a distinguishable feature, therefore we think that it is a good feature to predict."
   ]
  },
  {
   "cell_type": "code",
   "execution_count": 741,
   "metadata": {},
   "outputs": [],
   "source": [
    "x6 = grouped_df.min()['Market Value']   # the worst player\n",
    "x6 = x6.rename('Min Market Value')"
   ]
  },
  {
   "cell_type": "markdown",
   "metadata": {},
   "source": [
    "We thought that age average is a parameter that may not fit a quadratic relationship. Therefore, in order to see its effects clearly, we preferred to take its square, so it would have more influence over predictions. Distibution of age squared is wider than age average, therefore can imply more detailed examination. "
   ]
  },
  {
   "cell_type": "code",
   "execution_count": 742,
   "metadata": {},
   "outputs": [],
   "source": [
    "x7 = x1**2                              # Age squared\n",
    "x7 = x7.rename('Age Squared')"
   ]
  },
  {
   "cell_type": "markdown",
   "metadata": {},
   "source": [
    "A squad's total market value is also a good parameter to read on, which can show us the quality of the squad according to their financial values. It is directly related to players' form rating and quality, therefore shows the aggregate quantity of squad's quality. We picked this as feature because of this behavior may fit an estimated season analysis. However, it may be incorrect for those teams which have more players, directly increasing the total market value by number of players."
   ]
  },
  {
   "cell_type": "code",
   "execution_count": 743,
   "metadata": {},
   "outputs": [],
   "source": [
    "x66 = grouped_df['Market Value'].sum()   # total Market Value\n",
    "x66 = x66.rename('Total MV')"
   ]
  },
  {
   "cell_type": "markdown",
   "metadata": {},
   "source": [
    "It can be said that a team with distributed age structure is better than the one that has only olders or youngers. Older based teams are not capable of enduring the hard tempo of a full season due to lack of energetic players, whereas younger based teams are lack of experience and cold-blood situation-saver players. A synthesis of young and old mixed uniformly is a key of squad balance throughout a season. Therefore we thought that standard deviation of age of a squad is a feature to take into account in predicting a test season. "
   ]
  },
  {
   "cell_type": "code",
   "execution_count": 744,
   "metadata": {},
   "outputs": [],
   "source": [
    "x77 = grouped_df.std()['Age']            # Proxy for age Distribution\n",
    "x77 = x77.rename('Age Standard Deviation')"
   ]
  },
  {
   "cell_type": "markdown",
   "metadata": {},
   "source": [
    "We suspect that number of players in a given team in a given year is a variable that helps explaining the variation of points earned in that given year. Availability of different players is a strength for the coach as he can select different players for different circumstances.In addition when the team is tired, availability of different players can affect the outcome of matches. So we thought that it might be a factor contributing to the succes of a team. "
   ]
  },
  {
   "cell_type": "code",
   "execution_count": 745,
   "metadata": {},
   "outputs": [],
   "source": [
    "x9 = grouped_df.count()['Player']      # Kadro Genisligi \n",
    "x9 = x9.rename('Squad Width')\n",
    "\n"
   ]
  },
  {
   "cell_type": "markdown",
   "metadata": {},
   "source": [
    "We speculate that in addition to mean market value, the standard deviation of the market value(x8) of players in a team in a given year would behave like a proxy for the balanced distribution of players. We tested that the balanced distribution(high standard deviation) or a compact distribution(low standard deviation) may affect the succes of a team in terms of points earned in a season.\n",
    "\n",
    "Also, the average market value of the most 5 expensive players could be a factor in explaining the points that a club earn in a given year. In the cases that clubs may have too many cheap players which can decrease the mean market value of a team as a whole, x10 would perform  better.\n",
    "\n",
    "In addition to the features related to market values, we also tried the median of Market value(x17) since the distribution of Market Value is left skewed."
   ]
  },
  {
   "cell_type": "code",
   "execution_count": 746,
   "metadata": {},
   "outputs": [],
   "source": [
    "x8 = grouped_df.std()['Market Value']   # Proxy for Market Value Distribution\n",
    "x8 = x8.rename('MV Standard Deviation')\n",
    "\n",
    "x10 = (grouped_df['Market Value'].nlargest(5)).to_frame()  # Quantile MV\n",
    "x10 = x10.reset_index().groupby(['Season','Club']).sum()\n",
    "del x10['level_2']\n",
    "x10 =x10['Market Value'] \n",
    "x10 = x10.rename('Quantile MV')\n",
    "\n",
    "x17= grouped_df.median()['Market Value']\n"
   ]
  },
  {
   "cell_type": "markdown",
   "metadata": {},
   "source": [
    "In Turkish Super League probably one of the most important and discussed issue is the number of foreign players that teams has. We hypothesized that the total number of foreign players(x12) may affect the overall performance of a given team in a given year. However since the teams total player counts(Squad Widths) may differ this feature did not worked so well. In addition, a lot of poorer clubs can afford cheaper foreign players which increases their total number of foreign players. As a complementary approach, we speculated that the Market Value of these foreign players(x13) and the fraction of the squad(x11) that are foreign players can affect the end-of-season rankings. Finally, we observed that sometimes some foreign players( like Van Persie )come to teams when they are old but do not perform well despite the fact that their market values are high. So in order to take this fact into account we constuct the feature(x14) that look at the average age of the foreign players. These features improved the performance in explaining the variance in the dependent variable('points' in that case)."
   ]
  },
  {
   "cell_type": "code",
   "execution_count": 747,
   "metadata": {},
   "outputs": [],
   "source": [
    "x11 = grouped_df['Foreign'].sum() / grouped_df['Player'].count() # Kadrodaki yabanci orani\n",
    "x11 = x11.rename('Foreign Ratio')\n",
    "\n",
    "x12 = grouped_df['Foreign'].sum()             # Kadroda Yabanci sayisi (cok kotu calisiyor)\n",
    "x12 = x12.rename('Foreign Number')\n",
    "\n",
    "x13 = pd.DataFrame(player_df.groupby(['Season', 'Club','Foreign'])['Market Value'].mean())\n",
    "x13 = x13.reset_index()\n",
    "x13 = x13[x13['Foreign']==1]\n",
    "x13 = x13.set_index(['Season', 'Club'])\n",
    "x13 = x13.drop(['Foreign'], axis = 1)      # Yabanci oyuncu MV ortalamasi\n",
    "\n",
    "x14 = pd.DataFrame(player_df.groupby(['Season', 'Club','Foreign'])['Age'].mean())\n",
    "x14 = x14.reset_index()\n",
    "x14 = x14[x14['Foreign']==1]\n",
    "x14 = x14.set_index(['Season', 'Club'])\n",
    "x14 = x14.drop(['Foreign'], axis = 1)      # Yabanci oyuncu average age"
   ]
  },
  {
   "cell_type": "markdown",
   "metadata": {},
   "source": [
    "In addition to players being foreign there is a belief that being multinational is a strong indicator of a player's ability. In the feature x15 and x16 we tried to capture this effect and tried to explain the variance in the dependent variable. x15 is constructed of total number of multinational players.Although it seems like a good proxy for multinationals in a team, it is a cardinal relationship. Since the total number of players can differ(squad width), x15 does a poor job in terms of performance. x16 tries to convert the carinal structure of x15 to an ordinal type of a relation. "
   ]
  },
  {
   "cell_type": "code",
   "execution_count": 748,
   "metadata": {},
   "outputs": [],
   "source": [
    "x15 = grouped_df.sum()['Multinational']   # Multinational oyuncu sayisi\n",
    "\n",
    "x16 = grouped_df.sum()['Multinational'] / grouped_df['Foreign'].sum() # Multinational oyuncu / yabanci\n",
    "\n"
   ]
  },
  {
   "cell_type": "markdown",
   "metadata": {},
   "source": [
    "Finally, we assert that being a big football club in terms of budget, number of supperters and a name that prevails in Turkish soccer community affects the points taken. We suggest that being one of the big 4 clubs in Turkey, namely Fenerbahce Galatasaray, Besiktas and Trabzon spor strongly affects the points taken in a given year. We try to catch this effect via the feateure 'aa'. Not surprisingly, this feature performs very well. "
   ]
  },
  {
   "cell_type": "code",
   "execution_count": 749,
   "metadata": {},
   "outputs": [],
   "source": [
    "xdum=x1.rename('Coef')\n",
    "aa=pd.DataFrame(xdum*0).reset_index()\n",
    "bol = (aa['Club']=='Fenerbahce') | (aa['Club']=='Besiktas') | (aa['Club']=='Galatasaray') | (aa['Club']=='Trabzonspor') \n",
    "aa['Coef']=bol\n",
    "aa=aa.set_index(['Season','Club'])\n",
    "aa=aa['Coef']\n"
   ]
  },
  {
   "cell_type": "markdown",
   "metadata": {},
   "source": [
    "## Feature Selection"
   ]
  },
  {
   "cell_type": "markdown",
   "metadata": {},
   "source": [
    "In order to select features we first came up with a benchmark model which is very simple. To be more specific we used the average age and the average market value of players and tested this benchmark feature set using season 2015 as test set. Then, we noted the out of sample R-Squared and the Tau for comparison of the features selected. Afterwards we tried to add features to see how these parameters behave among features added. For example, cardinal variables like 'Total market value', 'Squad with', 'Number of foreign players', 'Multinational player number' performed significantly bad according to the metrics we selected. We then tightened the candidate feature set according to this analysis. \n"
   ]
  },
  {
   "cell_type": "code",
   "execution_count": 750,
   "metadata": {},
   "outputs": [],
   "source": [
    "\n",
    "y = point_df.sort_values(['Season', 'Club'], ascending=True)\n",
    "y = y.set_index(['Season', 'Club'])\n",
    "\n",
    "list_of_series = [x1,x4,x5,x6,aa]\n",
    "X = pd.concat(list_of_series, axis=1)\n",
    "\n",
    "\n"
   ]
  },
  {
   "cell_type": "markdown",
   "metadata": {},
   "source": [
    "### Test set is the year 2015"
   ]
  },
  {
   "cell_type": "code",
   "execution_count": 751,
   "metadata": {},
   "outputs": [
    {
     "name": "stdout",
     "output_type": "stream",
     "text": [
      "[[46.84049848]\n",
      " [48.03229384]\n",
      " [43.154651  ]\n",
      " [78.34802425]\n",
      " [43.02767012]\n",
      " [49.35435389]\n",
      " [42.20485042]\n",
      " [78.08362424]\n",
      " [68.16598792]\n",
      " [40.11868768]\n",
      " [45.2403231 ]\n",
      " [49.62968994]\n",
      " [42.76623173]\n",
      " [44.50025534]\n",
      " [39.28996744]\n",
      " [45.17039657]\n",
      " [46.53902259]\n",
      " [57.73627213]]\n",
      "[ 8  7 13  1 14  6 16  2  3 17 10  5 15 12  0 11  9  4]\n",
      "[ 8  5  9  1 11  4 17  2  6 14 10  7 15  3  0 13 16 12]\n",
      "R-squared = 0.475871\n"
     ]
    },
    {
     "data": {
      "text/plain": [
       "KendalltauResult(correlation=0.5947712418300655, pvalue=0.0005671197521065596)"
      ]
     },
     "execution_count": 751,
     "metadata": {},
     "output_type": "execute_result"
    }
   ],
   "source": [
    "X_train = X.loc[2007:2014]\n",
    "X_test = X.loc[2015:]\n",
    "y_train = y.loc[2007:2014]\n",
    "y_test = y.loc[2015:]\n",
    "\n",
    "final_model = LinearRegression(fit_intercept=False)\n",
    "final_model.fit(X_train,y_train)\n",
    "\n",
    "predictions = final_model.predict(X_test)\n",
    "print(predictions)\n",
    "\n",
    "def getKey(item):\n",
    "      return item[1]\n",
    "temp1 = sorted(enumerate(predictions), key=getKey, reverse = True)\n",
    "temp2 = list(enumerate(temp1,1))\n",
    "converted_predictions = np.zeros((18,), dtype=int)\n",
    "for i in range(0,17):\n",
    "    converted_predictions[temp2[i][1][0]] = temp2[i][0]\n",
    "print(converted_predictions)\n",
    "\n",
    "deneme = np.array(y_test)\n",
    "temp1 = sorted(enumerate(deneme), key=getKey, reverse = True)\n",
    "temp2 = list(enumerate(temp1,1))\n",
    "y_test_rank = np.zeros((18,), dtype=int)\n",
    "for i in range(0,17):\n",
    "    y_test_rank[temp2[i][1][0]] = temp2[i][0]\n",
    "print(y_test_rank)\n",
    "print ('R-squared = %f' %final_model.score(X_test,y_test))\n",
    "kendalltau(converted_predictions, y_test_rank)"
   ]
  },
  {
   "cell_type": "markdown",
   "metadata": {
    "collapsed": true
   },
   "source": [
    "### Test set is the year 2014 "
   ]
  },
  {
   "cell_type": "code",
   "execution_count": 752,
   "metadata": {},
   "outputs": [
    {
     "name": "stdout",
     "output_type": "stream",
     "text": [
      "[[44.50065418]\n",
      " [40.71282658]\n",
      " [62.91504077]\n",
      " [43.83016281]\n",
      " [45.20099149]\n",
      " [40.2009043 ]\n",
      " [74.84930877]\n",
      " [80.22699666]\n",
      " [38.23530421]\n",
      " [40.64778815]\n",
      " [41.42190955]\n",
      " [41.76894725]\n",
      " [43.74743715]\n",
      " [44.73564784]\n",
      " [41.89192202]\n",
      " [43.40702433]\n",
      " [47.13504259]\n",
      " [49.89416547]]\n",
      "[ 8 15  3  9  6 17  2  1  0 16 14 13 10  7 12 11  5  4]\n",
      "[12 17  3  5  4 11  2  1  9 10  0 16 13  8  7 14 15  6]\n",
      "R-squared = 0.508780\n"
     ]
    },
    {
     "data": {
      "text/plain": [
       "KendalltauResult(correlation=0.35947712418300654, pvalue=0.037226296032875555)"
      ]
     },
     "execution_count": 752,
     "metadata": {},
     "output_type": "execute_result"
    }
   ],
   "source": [
    "X_train1 = X.loc[2007:2013]\n",
    "X_train2 = X.loc[2015]\n",
    "X_train= pd.concat([X_train1,X_train2], axis=0)\n",
    "X_test = X.loc[2014]\n",
    "\n",
    "y_train1 = y.loc[2007:2013]\n",
    "y_train2 = y.loc[2015]\n",
    "y_train= pd.concat([y_train1,y_train2], axis=0)\n",
    "y_test = y.loc[2014]\n",
    "\n",
    "final_model = LinearRegression(fit_intercept=False)\n",
    "final_model.fit(X_train,y_train)\n",
    "\n",
    "predictions = final_model.predict(X_test)\n",
    "print (predictions)\n",
    "\n",
    "def getKey(item):\n",
    "      return item[1]\n",
    "temp1 = sorted(enumerate(predictions), key=getKey, reverse = True)\n",
    "temp2 = list(enumerate(temp1,1))\n",
    "converted_predictions = np.zeros((18,), dtype=int)\n",
    "for i in range(0,17):\n",
    "    converted_predictions[temp2[i][1][0]] = temp2[i][0]\n",
    "print (converted_predictions)\n",
    "\n",
    "deneme = np.array(y_test)\n",
    "temp1 = sorted(enumerate(deneme), key=getKey, reverse = True)\n",
    "temp2 = list(enumerate(temp1,1))\n",
    "y_test_rank = np.zeros((18,), dtype=int)\n",
    "for i in range(0,17):\n",
    "    y_test_rank[temp2[i][1][0]] = temp2[i][0]\n",
    "print (y_test_rank)\n",
    "print ('R-squared = %f' %final_model.score(X_train,y_train))\n",
    "kendalltau(converted_predictions, y_test_rank)\n",
    "\n",
    "\n"
   ]
  },
  {
   "cell_type": "markdown",
   "metadata": {},
   "source": [
    "Afterwards we utilized a leave one out approach to select the best feature set that consists of 4 features. We left the year 2014 out and trained the model using remaining years(2007-2013), in a way that maximizes the tau for 2014. Then we report the resulting features and their performances for the actual test set(year 2015). Note that the analysis is further improved via using different years as the left-out. And then select the feature sets that has the best performance among the years.\n",
    "\n",
    "Here we need to mention that according to the results, the expectation that we have initially is realized. In addition, the initial ad-hoc selection of features (namely x1:'Mean Age' and x2:'Mean Market Value') to construct the aforementioned benchmark model, seems consistent as in the final feature set contains both of them.  The top Performer Features are as follows:\n",
    "\n",
    "\n",
    "- x1 : 'Mean Age'\n",
    "- x4 : 'Mean Market Value'\n",
    "- x11 : 'Foreign fraction of players in the Squad'\n",
    "- x16 : 'Multinational players' fraction in the foreign players'\n",
    "- aa : 'Being a \"big\" football club'\n",
    "\n",
    "Note that these selection of features not only performs better in the data that the model did not see before (Season:2015) but also performs reasonably well in the other seasons according to the parameters selected."
   ]
  },
  {
   "cell_type": "code",
   "execution_count": 753,
   "metadata": {},
   "outputs": [],
   "source": [
    "list_of_series= [x1,x2,x4,x5,x6,x77,x10,x11,aa,x16]"
   ]
  },
  {
   "cell_type": "markdown",
   "metadata": {},
   "source": [
    " Number of features per set is 4 "
   ]
  },
  {
   "cell_type": "code",
   "execution_count": 754,
   "metadata": {},
   "outputs": [
    {
     "name": "stdout",
     "output_type": "stream",
     "text": [
      "2.032679738562092\n",
      "1\n",
      "3\n",
      "8\n",
      "10\n"
     ]
    }
   ],
   "source": [
    "maxco=float() #max correlation\n",
    "maxi=int()  #max i index\n",
    "maxj=int()  #max j index\n",
    "maxl=int()\n",
    "maxm=int()\n",
    "\n",
    "for i in range (0,10):  #loop for 14 features\n",
    "    for j in range (0,10): #loop for 14 features\n",
    "        for l in range (0,10):  #loop for 14 features\n",
    "            for m in range (0,10): #loop for 14 features\n",
    "                corlist=[]  #correlation list for 6 test years\n",
    "                for u in range (0,5):  #loop for 6 test years\n",
    "                    X = pd.concat([list_of_series[i],list_of_series[j],list_of_series[l],list_of_series[m]], axis=1)\n",
    "                    X_train1 = X.loc[2007:2013-u]   #respectively chosen 4 features\n",
    "                    X_train2 = X.loc[2014-u:2014]\n",
    "                    X_train= pd.concat([X_train1,X_train2], axis=0)\n",
    "                    X_test = X.loc[2014-u]\n",
    "\n",
    "                    y_train1 = y.loc[2007:2013-u]\n",
    "                    y_train2 = y.loc[2014-u:2014]\n",
    "                    y_train= pd.concat([y_train1,y_train2], axis=0)\n",
    "                    y_test = y.loc[2014-u]\n",
    "                    final_model = LinearRegression(fit_intercept=False)\n",
    "                    final_model.fit(X_train,y_train)\n",
    "                    predictions = final_model.predict(X_test)\n",
    "\n",
    "                    def getKey(item):\n",
    "                        return item[1]\n",
    "                    temp1 = sorted(enumerate(predictions), key=getKey, reverse = True)\n",
    "                    temp2 = list(enumerate(temp1,1))\n",
    "                    converted_predictions = np.zeros((18,), dtype=int)\n",
    "                    for k in range(0,17):\n",
    "                        converted_predictions[temp2[k][1][0]] = temp2[k][0]\n",
    "\n",
    "                    deneme = np.array(y_test)\n",
    "                    temp1 = sorted(enumerate(deneme), key=getKey, reverse = True)\n",
    "                    temp2 = list(enumerate(temp1,1))\n",
    "                    y_test_rank = np.zeros((18,), dtype=int)\n",
    "                    for k in range(0,17):\n",
    "                        y_test_rank[temp2[k][1][0]] = temp2[k][0]\n",
    "\n",
    "                    corlist.append(kendalltau(converted_predictions, y_test_rank)[0]) #adding calculated corr to list\n",
    "            tempco=sum(corlist) #correlation sum after 6 year test\n",
    "            if tempco > maxco:  #changing max correlation sum indexes\n",
    "                maxi=i\n",
    "                maxj=j\n",
    "                maxl=l\n",
    "                maxm=m\n",
    "                maxco=tempco\n",
    "\n",
    "print(maxco)\n",
    "print(maxi+1)\n",
    "print(maxj+1)\n",
    "print(maxl+1)\n",
    "print(maxm+1)"
   ]
  },
  {
   "cell_type": "markdown",
   "metadata": {},
   "source": [
    "Below we can see that adding 'aa' to the feature set decreases the performance of the feature set a little but decreases the standard deviation as well. So in order to have a more precise performance we included the 'Big Team' feature to the final set."
   ]
  },
  {
   "cell_type": "code",
   "execution_count": 755,
   "metadata": {},
   "outputs": [
    {
     "name": "stdout",
     "output_type": "stream",
     "text": [
      "[0.25490196078431376, 0.24183006535947715, 0.24183006535947715, 0.607843137254902, 0.6862745098039217]\n",
      "Total Performance without the feature aa 2.032680\n",
      "Standard Deviation of the performance without the feature aa 0.198004\n",
      "[0.2941176470588236, 0.281045751633987, 0.22875816993464054, 0.5816993464052289, 0.607843137254902]\n",
      "Total Performance with the feature aa 1.993464\n",
      "Standard Deviation of the performance with the feature aa 0.161796\n"
     ]
    }
   ],
   "source": [
    "corlist=[]  #correlation list for 6 test years\n",
    "i= 0#0 #x1\n",
    "j= 2#2 #x4\n",
    "l= 7#7#7 #3 #x5\n",
    "m= 9#9 #9 #4 #x6\n",
    "z= 8#8 #8 #aa\n",
    "for u in range (0,5):  #loop for 6 test years\n",
    "    X = pd.concat([list_of_series[i],list_of_series[j],list_of_series[l],list_of_series[m]], axis=1)\n",
    "    X_train1 = X.loc[2007:2013-u]   #respectively chosen 4 features\n",
    "    X_train2 = X.loc[2014-u:2014]\n",
    "    X_train= pd.concat([X_train1,X_train2], axis=0)\n",
    "    X_test = X.loc[2014-u]\n",
    "\n",
    "    y_train1 = y.loc[2007:2013-u]\n",
    "    y_train2 = y.loc[2014-u:2014]\n",
    "    y_train= pd.concat([y_train1,y_train2], axis=0)\n",
    "    y_test = y.loc[2014-u]\n",
    "    final_model = LinearRegression(fit_intercept=False)\n",
    "    final_model.fit(X_train,y_train)\n",
    "    predictions = final_model.predict(X_test)\n",
    "\n",
    "    def getKey(item):\n",
    "        return item[1]\n",
    "    temp1 = sorted(enumerate(predictions), key=getKey, reverse = True)\n",
    "    temp2 = list(enumerate(temp1,1))\n",
    "    converted_predictions = np.zeros((18,), dtype=int)\n",
    "    for k in range(0,17):\n",
    "        converted_predictions[temp2[k][1][0]] = temp2[k][0]\n",
    "\n",
    "    deneme = np.array(y_test)\n",
    "    temp1 = sorted(enumerate(deneme), key=getKey, reverse = True)\n",
    "    temp2 = list(enumerate(temp1,1))\n",
    "    y_test_rank = np.zeros((18,), dtype=int)\n",
    "    for k in range(0,17):\n",
    "        y_test_rank[temp2[k][1][0]] = temp2[k][0]\n",
    "\n",
    "    corlist.append(kendalltau(converted_predictions, y_test_rank)[0]) #adding calculated corr to list\n",
    "print (corlist)\n",
    "print ('Total Performance without the feature aa %f' %sum(corlist))\n",
    "print ('Standard Deviation of the performance without the feature aa %f' %np.std(corlist))\n",
    "\n",
    "corlist=[]  #correlation list for 6 test years\n",
    "for u in range (0,5):  #loop for 6 test years\n",
    "    X = pd.concat([list_of_series[i],list_of_series[j],list_of_series[l],list_of_series[m], list_of_series[z]], axis=1)\n",
    "    X_train1 = X.loc[2007:2013-u]   #respectively chosen 4 features\n",
    "    X_train2 = X.loc[2014-u:2014]\n",
    "    X_train= pd.concat([X_train1,X_train2], axis=0)\n",
    "    X_test = X.loc[2014-u]\n",
    "\n",
    "    y_train1 = y.loc[2007:2013-u]\n",
    "    y_train2 = y.loc[2014-u:2014]\n",
    "    y_train= pd.concat([y_train1,y_train2], axis=0)\n",
    "    y_test = y.loc[2014-u]\n",
    "    final_model = LinearRegression(fit_intercept=False)\n",
    "    final_model.fit(X_train,y_train)\n",
    "    predictions = final_model.predict(X_test)\n",
    "\n",
    "    def getKey(item):\n",
    "        return item[1]\n",
    "    temp1 = sorted(enumerate(predictions), key=getKey, reverse = True)\n",
    "    temp2 = list(enumerate(temp1,1))\n",
    "    converted_predictions = np.zeros((18,), dtype=int)\n",
    "    for k in range(0,17):\n",
    "        converted_predictions[temp2[k][1][0]] = temp2[k][0]\n",
    "\n",
    "    deneme = np.array(y_test)\n",
    "    temp1 = sorted(enumerate(deneme), key=getKey, reverse = True)\n",
    "    temp2 = list(enumerate(temp1,1))\n",
    "    y_test_rank = np.zeros((18,), dtype=int)\n",
    "    for k in range(0,17):\n",
    "        y_test_rank[temp2[k][1][0]] = temp2[k][0]\n",
    "\n",
    "    corlist.append(kendalltau(converted_predictions, y_test_rank)[0]) #adding calculated corr to list\n",
    "print  (corlist)\n",
    "print ('Total Performance with the feature aa %f' %sum(corlist))\n",
    "print ('Standard Deviation of the performance with the feature aa %f' %np.std(corlist))"
   ]
  },
  {
   "cell_type": "markdown",
   "metadata": {},
   "source": [
    "### Trying the outcomes for the data that the model did not see (i.e 2015)"
   ]
  },
  {
   "cell_type": "code",
   "execution_count": 756,
   "metadata": {},
   "outputs": [
    {
     "name": "stdout",
     "output_type": "stream",
     "text": [
      "[[46.26326583]\n",
      " [46.15812706]\n",
      " [43.31672423]\n",
      " [71.8585596 ]\n",
      " [45.64635989]\n",
      " [48.54957396]\n",
      " [42.56774166]\n",
      " [80.03311008]\n",
      " [71.27534424]\n",
      " [40.97793832]\n",
      " [43.72087513]\n",
      " [46.78468037]\n",
      " [42.97218744]\n",
      " [43.31525215]\n",
      " [39.5198886 ]\n",
      " [43.45833943]\n",
      " [46.04053588]\n",
      " [60.43551053]]\n",
      "[ 7  8 13  2 10  5 16  1  3 17 11  6 15 14  0 12  9  4]\n",
      "[ 8  5  9  1 11  4 17  2  6 14 10  7 15  3  0 13 16 12]\n",
      "OOS R-squared = 0.381083\n",
      "In Sample R-squared = 0.522720\n"
     ]
    },
    {
     "data": {
      "text/plain": [
       "KendalltauResult(correlation=0.542483660130719, pvalue=0.0016674135317840974)"
      ]
     },
     "execution_count": 756,
     "metadata": {},
     "output_type": "execute_result"
    }
   ],
   "source": [
    "y = point_df.sort_values(['Season', 'Club'], ascending=True)\n",
    "y = y.set_index(['Season', 'Club'])\n",
    "\n",
    "list_of_series = [x1,x4,x11,x16,aa]\n",
    "X = pd.concat(list_of_series, axis=1)\n",
    "\n",
    "X_train = X.loc[2007:2014]\n",
    "X_test = X.loc[2015:]\n",
    "y_train = y.loc[2007:2014]\n",
    "y_test = y.loc[2015:]\n",
    "\n",
    "final_model = LinearRegression(fit_intercept=False)\n",
    "final_model.fit(X_train,y_train)\n",
    "\n",
    "predictions = final_model.predict(X_test)\n",
    "print (predictions)\n",
    "\n",
    "def getKey(item):\n",
    "      return item[1]\n",
    "temp1 = sorted(enumerate(predictions), key=getKey, reverse = True)\n",
    "temp2 = list(enumerate(temp1,1))\n",
    "converted_predictions = np.zeros((18,), dtype=int)\n",
    "for i in range(0,17):\n",
    "    converted_predictions[temp2[i][1][0]] = temp2[i][0]\n",
    "print (converted_predictions)\n",
    "\n",
    "deneme = np.array(y_test)\n",
    "temp1 = sorted(enumerate(deneme), key=getKey, reverse = True)\n",
    "temp2 = list(enumerate(temp1,1))\n",
    "y_test_rank = np.zeros((18,), dtype=int)\n",
    "for i in range(0,17):\n",
    "    y_test_rank[temp2[i][1][0]] = temp2[i][0]\n",
    "print (y_test_rank)\n",
    "print ('OOS R-squared = %f' %final_model.score(X_test,y_test))\n",
    "print ('In Sample R-squared = %f' %final_model.score(X_train,y_train))\n",
    "kendalltau(converted_predictions, y_test_rank)"
   ]
  },
  {
   "cell_type": "markdown",
   "metadata": {},
   "source": [
    " Adjusting the Design matrix for project evaluation"
   ]
  },
  {
   "cell_type": "code",
   "execution_count": 757,
   "metadata": {},
   "outputs": [],
   "source": [
    "X_train = X.loc[2007:2015]\n",
    "y_train = y.loc[2007:2015]"
   ]
  },
  {
   "cell_type": "markdown",
   "metadata": {},
   "source": [
    "# Evaluation"
   ]
  },
  {
   "cell_type": "code",
   "execution_count": 758,
   "metadata": {},
   "outputs": [],
   "source": [
    "# Fill this function to construct a data frame X that contains your final features extracted from the dataset\n",
    "def construct_features(df):\n",
    "    grouped_df = df.groupby(['Season', 'Club'])\n",
    "    x1 = grouped_df.mean()['Age']\n",
    "    x4 = grouped_df.mean()['Market Value']  # mean of team MV\n",
    "    x4 = x4.rename('Average Market Value')\n",
    "    x11 = grouped_df['Foreign'].sum() / grouped_df['Player'].count() # Kadrodaki yabanci orani\n",
    "    x11 = x11.rename('Foreign Ratio')\n",
    "    x16 = grouped_df.sum()['Multinational'] / grouped_df['Foreign'].sum() # Multinational oyuncu / yabanci\n",
    "\n",
    "    xdum=x1.rename('Coef')\n",
    "    aa=pd.DataFrame(xdum*0).reset_index()\n",
    "    bol = (aa['Club']=='Fenerbahce') | (aa['Club']=='Besiktas') | (aa['Club']=='Galatasaray') | (aa['Club']=='Trabzonspor') \n",
    "    aa['Coef']=bol\n",
    "    aa=aa.set_index(['Season','Club'])\n",
    "    aa=aa['Coef']\n",
    "\n",
    "    list_of_series = [x1,x4,x11,x16,aa]\n",
    "    X = pd.concat(list_of_series, axis=1)\n",
    "    \n",
    "    return X\n"
   ]
  },
  {
   "cell_type": "code",
   "execution_count": 759,
   "metadata": {},
   "outputs": [],
   "source": [
    "# Fill this function to construct a data frame y that contains the labels of the test data\n",
    "# rawd data --->> ranking \n",
    "def construct_labels(df):\n",
    "    def convert_points_to_predictions(predictions):\n",
    "        def getKey(item):\n",
    "            return item[1]\n",
    "        temp1 = sorted(enumerate(predictions), key=getKey, reverse = True)\n",
    "        temp2 = list(enumerate(temp1,1))\n",
    "        converted_predictions = np.zeros((len(predictions),), dtype=int)\n",
    "        for i in range(0,len(predictions)-1):\n",
    "            converted_predictions[temp2[i][1][0]] = temp2[i][0]\n",
    "        return converted_predictions\n",
    "    y = df.sort_values(['Season', 'Club'], ascending=True)\n",
    "    y = y.set_index(['Season', 'Club'])\n",
    "    y = y['Points']\n",
    "    y = convert_points_to_predictions(y)\n",
    "    return y"
   ]
  },
  {
   "cell_type": "code",
   "execution_count": 760,
   "metadata": {},
   "outputs": [],
   "source": [
    "# If you try to choose to predict points instead of rankings then you should implement this function as well\n",
    "# to generate rankings. If you predict the rankings directly, you can leave this function as it is.\n",
    "def convert_points_to_predictions(predictions):\n",
    "    def getKey(item):\n",
    "        return item[1]\n",
    "    temp1 = sorted(enumerate(predictions), key=getKey, reverse = True)\n",
    "    temp2 = list(enumerate(temp1,1))\n",
    "    converted_predictions = np.zeros((len(predictions),), dtype=int)\n",
    "    for i in range(0,len(predictions)-1):\n",
    "        converted_predictions[temp2[i][1][0]] = temp2[i][0]\n",
    "    return converted_predictions"
   ]
  },
  {
   "cell_type": "code",
   "execution_count": 761,
   "metadata": {},
   "outputs": [
    {
     "name": "stdout",
     "output_type": "stream",
     "text": [
      "0.5555555555555556\n"
     ]
    }
   ],
   "source": [
    "# This function will evaluate your features test performance using the ranking predictions\n",
    "def compute_test_score(outfile_name):\n",
    "    # X_test should contain the feature you engineered and y_test should contain the corresponding labels, which are team rankings \n",
    "    X_test = construct_features(pd.read_excel('test_data.xlsx',sheet_name='Player'))\n",
    "    y_test = construct_labels(pd.read_excel('test_data.xlsx','Points'))\n",
    "    # This is the regression model you will use\n",
    "    final_model = LinearRegression(fit_intercept=False)\n",
    "    final_model.fit(X_train,y_train)\n",
    "    # Your model's predictions will be stored in this array\n",
    "    predictions = final_model.predict(X_test)\n",
    "    # Your model can predict either points or rankings. If necessary, change the function above\n",
    "    #! SENELIK MI TEST DATASI \n",
    "    predictions = convert_points_to_predictions(predictions)\n",
    "    # Your performance on the test set\n",
    "    tau, _ = kendalltau(predictions, y_test)\n",
    "    # Print tau both to file and screen\n",
    "    print(tau)\n",
    "    f = open(outfile_name, 'w')\n",
    "    f.write(str(tau))\n",
    "    f.close()\n",
    "\n",
    "#outfile name should have the format ID1_ID2_ID3.txt\n",
    "outfile_name = '2016749060-2014401015-2017701117.txt'\n",
    "compute_test_score(outfile_name)"
   ]
  }
 ],
 "metadata": {
  "kernelspec": {
   "display_name": "Python 3",
   "language": "python",
   "name": "python3"
  },
  "language_info": {
   "codemirror_mode": {
    "name": "ipython",
    "version": 3
   },
   "file_extension": ".py",
   "mimetype": "text/x-python",
   "name": "python",
   "nbconvert_exporter": "python",
   "pygments_lexer": "ipython3",
   "version": "3.6.4"
  }
 },
 "nbformat": 4,
 "nbformat_minor": 2
}
